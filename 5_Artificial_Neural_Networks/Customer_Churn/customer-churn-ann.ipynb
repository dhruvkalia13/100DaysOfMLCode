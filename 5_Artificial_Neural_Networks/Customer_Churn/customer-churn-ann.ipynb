{
 "cells": [
  {
   "cell_type": "code",
   "execution_count": 1,
   "metadata": {
    "_cell_guid": "b1076dfc-b9ad-4769-8c92-a6c4dae69d19",
    "_uuid": "8f2839f25d086af736a60e9eeb907d3b93b6e0e5",
    "execution": {
     "iopub.execute_input": "2020-08-11T22:03:21.227821Z",
     "iopub.status.busy": "2020-08-11T22:03:21.226941Z",
     "iopub.status.idle": "2020-08-11T22:03:21.237760Z",
     "shell.execute_reply": "2020-08-11T22:03:21.236990Z"
    },
    "papermill": {
     "duration": 0.034433,
     "end_time": "2020-08-11T22:03:21.237913",
     "exception": false,
     "start_time": "2020-08-11T22:03:21.203480",
     "status": "completed"
    },
    "tags": []
   },
   "outputs": [
    {
     "name": "stdout",
     "output_type": "stream",
     "text": [
      "/kaggle/input/churn-modelling/Churn_Modelling.csv\n"
     ]
    }
   ],
   "source": [
    "# This Python 3 environment comes with many helpful analytics libraries installed\n",
    "# It is defined by the kaggle/python Docker image: https://github.com/kaggle/docker-python\n",
    "# For example, here's several helpful packages to load\n",
    "\n",
    "import numpy as np # linear algebra\n",
    "import pandas as pd # data processing, CSV file I/O (e.g. pd.read_csv)\n",
    "\n",
    "# Input data files are available in the read-only \"../input/\" directory\n",
    "# For example, running this (by clicking run or pressing Shift+Enter) will list all files under the input directory\n",
    "\n",
    "import os\n",
    "for dirname, _, filenames in os.walk('/kaggle/input'):\n",
    "    for filename in filenames:\n",
    "        print(os.path.join(dirname, filename))\n",
    "\n",
    "# You can write up to 5GB to the current directory (/kaggle/working/) that gets preserved as output when you create a version using \"Save & Run All\" \n",
    "# You can also write temporary files to /kaggle/temp/, but they won't be saved outside of the current session"
   ]
  },
  {
   "cell_type": "code",
   "execution_count": 2,
   "metadata": {
    "_cell_guid": "79c7e3d0-c299-4dcb-8224-4455121ee9b0",
    "_uuid": "d629ff2d2480ee46fbb7e2d37f6b5fab8052498a",
    "execution": {
     "iopub.execute_input": "2020-08-11T22:03:21.273182Z",
     "iopub.status.busy": "2020-08-11T22:03:21.272302Z",
     "iopub.status.idle": "2020-08-11T22:03:21.357720Z",
     "shell.execute_reply": "2020-08-11T22:03:21.356733Z"
    },
    "papermill": {
     "duration": 0.105937,
     "end_time": "2020-08-11T22:03:21.357883",
     "exception": false,
     "start_time": "2020-08-11T22:03:21.251946",
     "status": "completed"
    },
    "tags": []
   },
   "outputs": [
    {
     "data": {
      "text/html": [
       "<div>\n",
       "<style scoped>\n",
       "    .dataframe tbody tr th:only-of-type {\n",
       "        vertical-align: middle;\n",
       "    }\n",
       "\n",
       "    .dataframe tbody tr th {\n",
       "        vertical-align: top;\n",
       "    }\n",
       "\n",
       "    .dataframe thead th {\n",
       "        text-align: right;\n",
       "    }\n",
       "</style>\n",
       "<table border=\"1\" class=\"dataframe\">\n",
       "  <thead>\n",
       "    <tr style=\"text-align: right;\">\n",
       "      <th></th>\n",
       "      <th>RowNumber</th>\n",
       "      <th>CustomerId</th>\n",
       "      <th>Surname</th>\n",
       "      <th>CreditScore</th>\n",
       "      <th>Geography</th>\n",
       "      <th>Gender</th>\n",
       "      <th>Age</th>\n",
       "      <th>Tenure</th>\n",
       "      <th>Balance</th>\n",
       "      <th>NumOfProducts</th>\n",
       "      <th>HasCrCard</th>\n",
       "      <th>IsActiveMember</th>\n",
       "      <th>EstimatedSalary</th>\n",
       "      <th>Exited</th>\n",
       "    </tr>\n",
       "  </thead>\n",
       "  <tbody>\n",
       "    <tr>\n",
       "      <th>0</th>\n",
       "      <td>1</td>\n",
       "      <td>15634602</td>\n",
       "      <td>Hargrave</td>\n",
       "      <td>619</td>\n",
       "      <td>France</td>\n",
       "      <td>Female</td>\n",
       "      <td>42</td>\n",
       "      <td>2</td>\n",
       "      <td>0.00</td>\n",
       "      <td>1</td>\n",
       "      <td>1</td>\n",
       "      <td>1</td>\n",
       "      <td>101348.88</td>\n",
       "      <td>1</td>\n",
       "    </tr>\n",
       "    <tr>\n",
       "      <th>1</th>\n",
       "      <td>2</td>\n",
       "      <td>15647311</td>\n",
       "      <td>Hill</td>\n",
       "      <td>608</td>\n",
       "      <td>Spain</td>\n",
       "      <td>Female</td>\n",
       "      <td>41</td>\n",
       "      <td>1</td>\n",
       "      <td>83807.86</td>\n",
       "      <td>1</td>\n",
       "      <td>0</td>\n",
       "      <td>1</td>\n",
       "      <td>112542.58</td>\n",
       "      <td>0</td>\n",
       "    </tr>\n",
       "    <tr>\n",
       "      <th>2</th>\n",
       "      <td>3</td>\n",
       "      <td>15619304</td>\n",
       "      <td>Onio</td>\n",
       "      <td>502</td>\n",
       "      <td>France</td>\n",
       "      <td>Female</td>\n",
       "      <td>42</td>\n",
       "      <td>8</td>\n",
       "      <td>159660.80</td>\n",
       "      <td>3</td>\n",
       "      <td>1</td>\n",
       "      <td>0</td>\n",
       "      <td>113931.57</td>\n",
       "      <td>1</td>\n",
       "    </tr>\n",
       "    <tr>\n",
       "      <th>3</th>\n",
       "      <td>4</td>\n",
       "      <td>15701354</td>\n",
       "      <td>Boni</td>\n",
       "      <td>699</td>\n",
       "      <td>France</td>\n",
       "      <td>Female</td>\n",
       "      <td>39</td>\n",
       "      <td>1</td>\n",
       "      <td>0.00</td>\n",
       "      <td>2</td>\n",
       "      <td>0</td>\n",
       "      <td>0</td>\n",
       "      <td>93826.63</td>\n",
       "      <td>0</td>\n",
       "    </tr>\n",
       "    <tr>\n",
       "      <th>4</th>\n",
       "      <td>5</td>\n",
       "      <td>15737888</td>\n",
       "      <td>Mitchell</td>\n",
       "      <td>850</td>\n",
       "      <td>Spain</td>\n",
       "      <td>Female</td>\n",
       "      <td>43</td>\n",
       "      <td>2</td>\n",
       "      <td>125510.82</td>\n",
       "      <td>1</td>\n",
       "      <td>1</td>\n",
       "      <td>1</td>\n",
       "      <td>79084.10</td>\n",
       "      <td>0</td>\n",
       "    </tr>\n",
       "  </tbody>\n",
       "</table>\n",
       "</div>"
      ],
      "text/plain": [
       "   RowNumber  CustomerId   Surname  CreditScore Geography  Gender  Age  \\\n",
       "0          1    15634602  Hargrave          619    France  Female   42   \n",
       "1          2    15647311      Hill          608     Spain  Female   41   \n",
       "2          3    15619304      Onio          502    France  Female   42   \n",
       "3          4    15701354      Boni          699    France  Female   39   \n",
       "4          5    15737888  Mitchell          850     Spain  Female   43   \n",
       "\n",
       "   Tenure    Balance  NumOfProducts  HasCrCard  IsActiveMember  \\\n",
       "0       2       0.00              1          1               1   \n",
       "1       1   83807.86              1          0               1   \n",
       "2       8  159660.80              3          1               0   \n",
       "3       1       0.00              2          0               0   \n",
       "4       2  125510.82              1          1               1   \n",
       "\n",
       "   EstimatedSalary  Exited  \n",
       "0        101348.88       1  \n",
       "1        112542.58       0  \n",
       "2        113931.57       1  \n",
       "3         93826.63       0  \n",
       "4         79084.10       0  "
      ]
     },
     "execution_count": 2,
     "metadata": {},
     "output_type": "execute_result"
    }
   ],
   "source": [
    "df = pd.read_csv(\"../input/churn-modelling/Churn_Modelling.csv\")\n",
    "df.head()"
   ]
  },
  {
   "cell_type": "code",
   "execution_count": 3,
   "metadata": {
    "execution": {
     "iopub.execute_input": "2020-08-11T22:03:21.404814Z",
     "iopub.status.busy": "2020-08-11T22:03:21.397221Z",
     "iopub.status.idle": "2020-08-11T22:03:21.413035Z",
     "shell.execute_reply": "2020-08-11T22:03:21.412278Z"
    },
    "papermill": {
     "duration": 0.039615,
     "end_time": "2020-08-11T22:03:21.413190",
     "exception": false,
     "start_time": "2020-08-11T22:03:21.373575",
     "status": "completed"
    },
    "tags": []
   },
   "outputs": [
    {
     "data": {
      "text/plain": [
       "[]"
      ]
     },
     "execution_count": 3,
     "metadata": {},
     "output_type": "execute_result"
    }
   ],
   "source": [
    "missing_cols = [col for col in df.columns if df[col].isnull().any()]\n",
    "missing_cols"
   ]
  },
  {
   "cell_type": "code",
   "execution_count": 4,
   "metadata": {
    "execution": {
     "iopub.execute_input": "2020-08-11T22:03:21.456557Z",
     "iopub.status.busy": "2020-08-11T22:03:21.455236Z",
     "iopub.status.idle": "2020-08-11T22:03:21.459643Z",
     "shell.execute_reply": "2020-08-11T22:03:21.458749Z"
    },
    "papermill": {
     "duration": 0.031867,
     "end_time": "2020-08-11T22:03:21.459819",
     "exception": false,
     "start_time": "2020-08-11T22:03:21.427952",
     "status": "completed"
    },
    "tags": []
   },
   "outputs": [],
   "source": [
    "# Categorical columns\n",
    "df_categorical = df.select_dtypes('object')"
   ]
  },
  {
   "cell_type": "code",
   "execution_count": 5,
   "metadata": {
    "execution": {
     "iopub.execute_input": "2020-08-11T22:03:21.497644Z",
     "iopub.status.busy": "2020-08-11T22:03:21.496713Z",
     "iopub.status.idle": "2020-08-11T22:03:22.698146Z",
     "shell.execute_reply": "2020-08-11T22:03:22.697278Z"
    },
    "papermill": {
     "duration": 1.223421,
     "end_time": "2020-08-11T22:03:22.698290",
     "exception": false,
     "start_time": "2020-08-11T22:03:21.474869",
     "status": "completed"
    },
    "tags": []
   },
   "outputs": [],
   "source": [
    "from sklearn.preprocessing import LabelEncoder\n",
    "df_c = df.copy()\n",
    "label_encoder = LabelEncoder()\n",
    "for col in df_categorical.columns:\n",
    "    df_c[col] = label_encoder.fit_transform(df[col])"
   ]
  },
  {
   "cell_type": "code",
   "execution_count": 6,
   "metadata": {
    "execution": {
     "iopub.execute_input": "2020-08-11T22:03:22.736560Z",
     "iopub.status.busy": "2020-08-11T22:03:22.735713Z",
     "iopub.status.idle": "2020-08-11T22:03:22.747536Z",
     "shell.execute_reply": "2020-08-11T22:03:22.746831Z"
    },
    "papermill": {
     "duration": 0.034586,
     "end_time": "2020-08-11T22:03:22.747704",
     "exception": false,
     "start_time": "2020-08-11T22:03:22.713118",
     "status": "completed"
    },
    "tags": []
   },
   "outputs": [],
   "source": [
    "y = df_c[['Exited']]\n",
    "df_c.drop('Exited', axis=1, inplace=True)\n",
    "X = df_c"
   ]
  },
  {
   "cell_type": "code",
   "execution_count": 7,
   "metadata": {
    "execution": {
     "iopub.execute_input": "2020-08-11T22:03:22.785272Z",
     "iopub.status.busy": "2020-08-11T22:03:22.784193Z",
     "iopub.status.idle": "2020-08-11T22:03:22.854697Z",
     "shell.execute_reply": "2020-08-11T22:03:22.853881Z"
    },
    "papermill": {
     "duration": 0.091971,
     "end_time": "2020-08-11T22:03:22.854853",
     "exception": false,
     "start_time": "2020-08-11T22:03:22.762882",
     "status": "completed"
    },
    "tags": []
   },
   "outputs": [],
   "source": [
    "from sklearn.model_selection import train_test_split\n",
    "X_train_c, X_test_c, y_train, y_test = train_test_split(X, y, test_size=0.2)"
   ]
  },
  {
   "cell_type": "code",
   "execution_count": 8,
   "metadata": {
    "execution": {
     "iopub.execute_input": "2020-08-11T22:03:22.897688Z",
     "iopub.status.busy": "2020-08-11T22:03:22.896168Z",
     "iopub.status.idle": "2020-08-11T22:03:22.922736Z",
     "shell.execute_reply": "2020-08-11T22:03:22.921723Z"
    },
    "papermill": {
     "duration": 0.052858,
     "end_time": "2020-08-11T22:03:22.922935",
     "exception": false,
     "start_time": "2020-08-11T22:03:22.870077",
     "status": "completed"
    },
    "tags": []
   },
   "outputs": [
    {
     "name": "stdout",
     "output_type": "stream",
     "text": [
      "          0         1         2      3    4    5         6    7         8  \\\n",
      "0  0.325065  0.738568  0.725009  1.000  0.5  1.0  0.337838  0.0  0.432482   \n",
      "1  0.910782  0.206941  0.982600  0.610  1.0  1.0  0.270270  0.9  0.000000   \n",
      "2  0.164733  0.359508  0.688502  0.696  0.5  0.0  0.297297  0.8  0.600950   \n",
      "3  0.499400  0.079519  0.153872  0.892  0.5  0.0  0.459459  0.9  0.666384   \n",
      "4  0.882476  0.746781  0.254179  0.586  1.0  0.0  0.229730  0.6  0.000000   \n",
      "\n",
      "          9   10   11        12  \n",
      "0  0.666667  1.0  0.0  0.920254  \n",
      "1  0.000000  0.0  1.0  0.452437  \n",
      "2  0.000000  1.0  0.0  0.573660  \n",
      "3  0.000000  1.0  1.0  0.314017  \n",
      "4  0.333333  1.0  1.0  0.207710  \n"
     ]
    }
   ],
   "source": [
    "from sklearn.preprocessing import MinMaxScaler\n",
    "# Standardization\n",
    "standard_scaler = MinMaxScaler(feature_range=(0, 1))\n",
    "X_train = pd.DataFrame(standard_scaler.fit_transform(X_train_c))\n",
    "X_test = pd.DataFrame(standard_scaler.fit_transform(X_test_c))\n",
    "print(X_train.head())"
   ]
  },
  {
   "cell_type": "code",
   "execution_count": 9,
   "metadata": {
    "execution": {
     "iopub.execute_input": "2020-08-11T22:03:22.964755Z",
     "iopub.status.busy": "2020-08-11T22:03:22.963835Z",
     "iopub.status.idle": "2020-08-11T22:03:22.967776Z",
     "shell.execute_reply": "2020-08-11T22:03:22.968313Z"
    },
    "papermill": {
     "duration": 0.026916,
     "end_time": "2020-08-11T22:03:22.968531",
     "exception": false,
     "start_time": "2020-08-11T22:03:22.941615",
     "status": "completed"
    },
    "tags": []
   },
   "outputs": [
    {
     "data": {
      "text/plain": [
       "13"
      ]
     },
     "execution_count": 9,
     "metadata": {},
     "output_type": "execute_result"
    }
   ],
   "source": [
    "X_train.shape[1]"
   ]
  },
  {
   "cell_type": "code",
   "execution_count": 10,
   "metadata": {
    "execution": {
     "iopub.execute_input": "2020-08-11T22:03:23.021085Z",
     "iopub.status.busy": "2020-08-11T22:03:23.020253Z",
     "iopub.status.idle": "2020-08-11T22:03:30.011695Z",
     "shell.execute_reply": "2020-08-11T22:03:30.010855Z"
    },
    "papermill": {
     "duration": 7.026362,
     "end_time": "2020-08-11T22:03:30.011858",
     "exception": false,
     "start_time": "2020-08-11T22:03:22.985496",
     "status": "completed"
    },
    "tags": []
   },
   "outputs": [],
   "source": [
    "import keras as keras\n",
    "model = keras.models.Sequential()\n",
    "model.add(keras.layers.Flatten(input_shape=[X_train.shape[1]]))\n",
    "model.add(keras.layers.Dense(100, kernel_initializer=\"he_normal\", activation=\"relu\"))\n",
    "model.add(keras.layers.BatchNormalization())\n",
    "model.add(keras.layers.Dense(100, kernel_initializer=\"he_normal\", activation=\"relu\"))\n",
    "model.add(keras.layers.BatchNormalization())\n",
    "model.add(keras.layers.Dense(100, kernel_initializer=\"he_normal\", activation=\"relu\"))\n",
    "model.add(keras.layers.BatchNormalization())\n",
    "model.add(keras.layers.Dense(100, kernel_initializer=\"he_normal\", activation=\"relu\"))\n",
    "model.add(keras.layers.BatchNormalization())\n",
    "model.add(keras.layers.Dense(2, activation=\"softmax\"))\n",
    "optimizer = keras.optimizers.SGD(lr=0.001, momentum=0.9, nesterov=True)\n",
    "model.compile(loss=\"sparse_categorical_crossentropy\", optimizer=optimizer, metrics=[\"accuracy\"])"
   ]
  },
  {
   "cell_type": "code",
   "execution_count": 11,
   "metadata": {
    "execution": {
     "iopub.execute_input": "2020-08-11T22:03:30.055004Z",
     "iopub.status.busy": "2020-08-11T22:03:30.054059Z",
     "iopub.status.idle": "2020-08-11T22:04:34.835237Z",
     "shell.execute_reply": "2020-08-11T22:04:34.834272Z"
    },
    "papermill": {
     "duration": 64.806735,
     "end_time": "2020-08-11T22:04:34.835430",
     "exception": false,
     "start_time": "2020-08-11T22:03:30.028695",
     "status": "completed"
    },
    "tags": []
   },
   "outputs": [
    {
     "name": "stdout",
     "output_type": "stream",
     "text": [
      "Epoch 1/100\n",
      "250/250 [==============================] - 1s 3ms/step - loss: 0.5970 - accuracy: 0.7147\n",
      "Epoch 2/100\n",
      "250/250 [==============================] - 1s 2ms/step - loss: 0.4670 - accuracy: 0.7969\n",
      "Epoch 3/100\n",
      "250/250 [==============================] - 1s 3ms/step - loss: 0.4417 - accuracy: 0.8037\n",
      "Epoch 4/100\n",
      "250/250 [==============================] - 1s 3ms/step - loss: 0.4290 - accuracy: 0.8142\n",
      "Epoch 5/100\n",
      "250/250 [==============================] - 1s 2ms/step - loss: 0.4182 - accuracy: 0.8205\n",
      "Epoch 6/100\n",
      "250/250 [==============================] - 1s 3ms/step - loss: 0.4063 - accuracy: 0.8271\n",
      "Epoch 7/100\n",
      "250/250 [==============================] - 1s 3ms/step - loss: 0.3994 - accuracy: 0.8317\n",
      "Epoch 8/100\n",
      "250/250 [==============================] - 1s 3ms/step - loss: 0.3897 - accuracy: 0.8340\n",
      "Epoch 9/100\n",
      "250/250 [==============================] - 1s 3ms/step - loss: 0.3812 - accuracy: 0.8372\n",
      "Epoch 10/100\n",
      "250/250 [==============================] - 1s 3ms/step - loss: 0.3793 - accuracy: 0.8413\n",
      "Epoch 11/100\n",
      "250/250 [==============================] - 1s 3ms/step - loss: 0.3675 - accuracy: 0.8407\n",
      "Epoch 12/100\n",
      "250/250 [==============================] - 1s 3ms/step - loss: 0.3692 - accuracy: 0.8449\n",
      "Epoch 13/100\n",
      "250/250 [==============================] - 1s 3ms/step - loss: 0.3570 - accuracy: 0.8479\n",
      "Epoch 14/100\n",
      "250/250 [==============================] - 1s 3ms/step - loss: 0.3559 - accuracy: 0.8503\n",
      "Epoch 15/100\n",
      "250/250 [==============================] - 1s 3ms/step - loss: 0.3502 - accuracy: 0.8510\n",
      "Epoch 16/100\n",
      "250/250 [==============================] - 1s 2ms/step - loss: 0.3471 - accuracy: 0.8544\n",
      "Epoch 17/100\n",
      "250/250 [==============================] - 1s 2ms/step - loss: 0.3417 - accuracy: 0.8560\n",
      "Epoch 18/100\n",
      "250/250 [==============================] - 1s 2ms/step - loss: 0.3403 - accuracy: 0.8566\n",
      "Epoch 19/100\n",
      "250/250 [==============================] - 1s 2ms/step - loss: 0.3350 - accuracy: 0.8577\n",
      "Epoch 20/100\n",
      "250/250 [==============================] - 1s 3ms/step - loss: 0.3378 - accuracy: 0.8560\n",
      "Epoch 21/100\n",
      "250/250 [==============================] - 1s 2ms/step - loss: 0.3251 - accuracy: 0.8619\n",
      "Epoch 22/100\n",
      "250/250 [==============================] - 1s 3ms/step - loss: 0.3245 - accuracy: 0.8674\n",
      "Epoch 23/100\n",
      "250/250 [==============================] - 1s 3ms/step - loss: 0.3323 - accuracy: 0.8631\n",
      "Epoch 24/100\n",
      "250/250 [==============================] - 1s 2ms/step - loss: 0.3190 - accuracy: 0.8669\n",
      "Epoch 25/100\n",
      "250/250 [==============================] - 1s 2ms/step - loss: 0.3159 - accuracy: 0.8679\n",
      "Epoch 26/100\n",
      "250/250 [==============================] - 1s 3ms/step - loss: 0.3191 - accuracy: 0.8648\n",
      "Epoch 27/100\n",
      "250/250 [==============================] - 1s 3ms/step - loss: 0.3111 - accuracy: 0.8666\n",
      "Epoch 28/100\n",
      "250/250 [==============================] - 1s 3ms/step - loss: 0.3106 - accuracy: 0.8692\n",
      "Epoch 29/100\n",
      "250/250 [==============================] - 1s 3ms/step - loss: 0.3073 - accuracy: 0.8708\n",
      "Epoch 30/100\n",
      "250/250 [==============================] - 1s 3ms/step - loss: 0.3051 - accuracy: 0.8731\n",
      "Epoch 31/100\n",
      "250/250 [==============================] - 1s 3ms/step - loss: 0.3024 - accuracy: 0.8702\n",
      "Epoch 32/100\n",
      "250/250 [==============================] - 1s 3ms/step - loss: 0.2963 - accuracy: 0.8754\n",
      "Epoch 33/100\n",
      "250/250 [==============================] - 1s 2ms/step - loss: 0.3049 - accuracy: 0.8711\n",
      "Epoch 34/100\n",
      "250/250 [==============================] - 1s 3ms/step - loss: 0.2966 - accuracy: 0.8776\n",
      "Epoch 35/100\n",
      "250/250 [==============================] - 1s 3ms/step - loss: 0.2948 - accuracy: 0.8776\n",
      "Epoch 36/100\n",
      "250/250 [==============================] - 1s 2ms/step - loss: 0.2940 - accuracy: 0.8766\n",
      "Epoch 37/100\n",
      "250/250 [==============================] - 1s 2ms/step - loss: 0.2850 - accuracy: 0.8776\n",
      "Epoch 38/100\n",
      "250/250 [==============================] - 1s 3ms/step - loss: 0.2913 - accuracy: 0.8746\n",
      "Epoch 39/100\n",
      "250/250 [==============================] - 1s 2ms/step - loss: 0.2786 - accuracy: 0.8867\n",
      "Epoch 40/100\n",
      "250/250 [==============================] - 1s 2ms/step - loss: 0.2829 - accuracy: 0.8816\n",
      "Epoch 41/100\n",
      "250/250 [==============================] - 1s 2ms/step - loss: 0.2809 - accuracy: 0.8808\n",
      "Epoch 42/100\n",
      "250/250 [==============================] - 1s 2ms/step - loss: 0.2759 - accuracy: 0.8834\n",
      "Epoch 43/100\n",
      "250/250 [==============================] - 1s 3ms/step - loss: 0.2766 - accuracy: 0.8823\n",
      "Epoch 44/100\n",
      "250/250 [==============================] - 1s 2ms/step - loss: 0.2714 - accuracy: 0.8842\n",
      "Epoch 45/100\n",
      "250/250 [==============================] - 1s 2ms/step - loss: 0.2764 - accuracy: 0.8856\n",
      "Epoch 46/100\n",
      "250/250 [==============================] - 1s 2ms/step - loss: 0.2758 - accuracy: 0.8845\n",
      "Epoch 47/100\n",
      "250/250 [==============================] - 1s 2ms/step - loss: 0.2711 - accuracy: 0.8869\n",
      "Epoch 48/100\n",
      "250/250 [==============================] - 1s 2ms/step - loss: 0.2683 - accuracy: 0.8856\n",
      "Epoch 49/100\n",
      "250/250 [==============================] - 1s 2ms/step - loss: 0.2652 - accuracy: 0.8909\n",
      "Epoch 50/100\n",
      "250/250 [==============================] - 1s 2ms/step - loss: 0.2654 - accuracy: 0.8888\n",
      "Epoch 51/100\n",
      "250/250 [==============================] - 1s 2ms/step - loss: 0.2612 - accuracy: 0.8898\n",
      "Epoch 52/100\n",
      "250/250 [==============================] - 1s 2ms/step - loss: 0.2632 - accuracy: 0.8899\n",
      "Epoch 53/100\n",
      "250/250 [==============================] - 1s 3ms/step - loss: 0.2619 - accuracy: 0.8892\n",
      "Epoch 54/100\n",
      "250/250 [==============================] - 1s 3ms/step - loss: 0.2573 - accuracy: 0.8909\n",
      "Epoch 55/100\n",
      "250/250 [==============================] - 1s 2ms/step - loss: 0.2571 - accuracy: 0.8903\n",
      "Epoch 56/100\n",
      "250/250 [==============================] - 1s 3ms/step - loss: 0.2534 - accuracy: 0.8938\n",
      "Epoch 57/100\n",
      "250/250 [==============================] - 1s 3ms/step - loss: 0.2528 - accuracy: 0.8944\n",
      "Epoch 58/100\n",
      "250/250 [==============================] - 1s 3ms/step - loss: 0.2542 - accuracy: 0.8976\n",
      "Epoch 59/100\n",
      "250/250 [==============================] - 1s 3ms/step - loss: 0.2610 - accuracy: 0.8916\n",
      "Epoch 60/100\n",
      "250/250 [==============================] - 1s 2ms/step - loss: 0.2564 - accuracy: 0.8923\n",
      "Epoch 61/100\n",
      "250/250 [==============================] - 1s 2ms/step - loss: 0.2529 - accuracy: 0.8913\n",
      "Epoch 62/100\n",
      "250/250 [==============================] - 1s 2ms/step - loss: 0.2476 - accuracy: 0.8931\n",
      "Epoch 63/100\n",
      "250/250 [==============================] - 1s 2ms/step - loss: 0.2425 - accuracy: 0.8981\n",
      "Epoch 64/100\n",
      "250/250 [==============================] - 1s 2ms/step - loss: 0.2463 - accuracy: 0.8954\n",
      "Epoch 65/100\n",
      "250/250 [==============================] - 1s 2ms/step - loss: 0.2456 - accuracy: 0.8970\n",
      "Epoch 66/100\n",
      "250/250 [==============================] - 1s 2ms/step - loss: 0.2381 - accuracy: 0.9001\n",
      "Epoch 67/100\n",
      "250/250 [==============================] - 1s 2ms/step - loss: 0.2440 - accuracy: 0.8978\n",
      "Epoch 68/100\n",
      "250/250 [==============================] - 1s 2ms/step - loss: 0.2410 - accuracy: 0.8978\n",
      "Epoch 69/100\n",
      "250/250 [==============================] - 1s 2ms/step - loss: 0.2355 - accuracy: 0.8990\n",
      "Epoch 70/100\n",
      "250/250 [==============================] - 1s 2ms/step - loss: 0.2414 - accuracy: 0.9011\n",
      "Epoch 71/100\n",
      "250/250 [==============================] - 1s 2ms/step - loss: 0.2381 - accuracy: 0.9000\n",
      "Epoch 72/100\n",
      "250/250 [==============================] - 1s 2ms/step - loss: 0.2358 - accuracy: 0.9004\n",
      "Epoch 73/100\n",
      "250/250 [==============================] - 1s 2ms/step - loss: 0.2319 - accuracy: 0.9055\n",
      "Epoch 74/100\n",
      "250/250 [==============================] - 1s 2ms/step - loss: 0.2316 - accuracy: 0.8996\n",
      "Epoch 75/100\n",
      "250/250 [==============================] - 1s 2ms/step - loss: 0.2255 - accuracy: 0.9065\n",
      "Epoch 76/100\n",
      "250/250 [==============================] - 1s 2ms/step - loss: 0.2335 - accuracy: 0.9031\n",
      "Epoch 77/100\n",
      "250/250 [==============================] - 1s 3ms/step - loss: 0.2253 - accuracy: 0.9019\n",
      "Epoch 78/100\n",
      "250/250 [==============================] - 1s 3ms/step - loss: 0.2269 - accuracy: 0.9044\n",
      "Epoch 79/100\n",
      "250/250 [==============================] - 1s 3ms/step - loss: 0.2263 - accuracy: 0.9043\n",
      "Epoch 80/100\n",
      "250/250 [==============================] - 1s 2ms/step - loss: 0.2180 - accuracy: 0.9078\n",
      "Epoch 81/100\n",
      "250/250 [==============================] - 1s 2ms/step - loss: 0.2220 - accuracy: 0.9046\n",
      "Epoch 82/100\n",
      "250/250 [==============================] - 1s 2ms/step - loss: 0.2251 - accuracy: 0.9036\n",
      "Epoch 83/100\n",
      "250/250 [==============================] - 1s 2ms/step - loss: 0.2181 - accuracy: 0.9089\n",
      "Epoch 84/100\n",
      "250/250 [==============================] - 1s 2ms/step - loss: 0.2143 - accuracy: 0.9104\n",
      "Epoch 85/100\n",
      "250/250 [==============================] - 1s 2ms/step - loss: 0.2099 - accuracy: 0.9155\n",
      "Epoch 86/100\n",
      "250/250 [==============================] - 1s 2ms/step - loss: 0.2152 - accuracy: 0.9086\n",
      "Epoch 87/100\n",
      "250/250 [==============================] - 1s 2ms/step - loss: 0.2169 - accuracy: 0.9125\n",
      "Epoch 88/100\n",
      "250/250 [==============================] - 1s 3ms/step - loss: 0.2198 - accuracy: 0.9087\n",
      "Epoch 89/100\n",
      "250/250 [==============================] - 1s 2ms/step - loss: 0.2201 - accuracy: 0.9080\n",
      "Epoch 90/100\n",
      "250/250 [==============================] - 1s 2ms/step - loss: 0.2124 - accuracy: 0.9133\n",
      "Epoch 91/100\n",
      "250/250 [==============================] - 1s 2ms/step - loss: 0.2132 - accuracy: 0.9125\n",
      "Epoch 92/100\n",
      "250/250 [==============================] - 1s 3ms/step - loss: 0.2137 - accuracy: 0.9139\n",
      "Epoch 93/100\n",
      "250/250 [==============================] - 1s 3ms/step - loss: 0.2085 - accuracy: 0.9106\n",
      "Epoch 94/100\n",
      "250/250 [==============================] - 1s 2ms/step - loss: 0.2155 - accuracy: 0.9125\n",
      "Epoch 95/100\n",
      "250/250 [==============================] - 1s 3ms/step - loss: 0.2023 - accuracy: 0.9194\n",
      "Epoch 96/100\n",
      "250/250 [==============================] - 1s 3ms/step - loss: 0.2049 - accuracy: 0.9158\n",
      "Epoch 97/100\n",
      "250/250 [==============================] - 1s 2ms/step - loss: 0.2036 - accuracy: 0.9172\n",
      "Epoch 98/100\n",
      "250/250 [==============================] - 1s 3ms/step - loss: 0.2073 - accuracy: 0.9112\n",
      "Epoch 99/100\n",
      "250/250 [==============================] - 1s 3ms/step - loss: 0.2012 - accuracy: 0.9161\n",
      "Epoch 100/100\n",
      "250/250 [==============================] - 1s 3ms/step - loss: 0.2022 - accuracy: 0.9161\n"
     ]
    }
   ],
   "source": [
    "history=model.fit(X_train, y_train, epochs=100)"
   ]
  },
  {
   "cell_type": "code",
   "execution_count": 12,
   "metadata": {
    "execution": {
     "iopub.execute_input": "2020-08-11T22:04:35.987631Z",
     "iopub.status.busy": "2020-08-11T22:04:35.986602Z",
     "iopub.status.idle": "2020-08-11T22:04:36.446831Z",
     "shell.execute_reply": "2020-08-11T22:04:36.446093Z"
    },
    "papermill": {
     "duration": 1.040103,
     "end_time": "2020-08-11T22:04:36.447010",
     "exception": false,
     "start_time": "2020-08-11T22:04:35.406907",
     "status": "completed"
    },
    "tags": []
   },
   "outputs": [
    {
     "name": "stdout",
     "output_type": "stream",
     "text": [
      "63/63 [==============================] - 0s 1ms/step - loss: 0.5514 - accuracy: 0.7975\n"
     ]
    },
    {
     "data": {
      "text/plain": [
       "[0.5514285564422607, 0.7975000143051147]"
      ]
     },
     "execution_count": 12,
     "metadata": {},
     "output_type": "execute_result"
    }
   ],
   "source": [
    "model.evaluate(X_test, y_test)"
   ]
  },
  {
   "cell_type": "code",
   "execution_count": 13,
   "metadata": {
    "execution": {
     "iopub.execute_input": "2020-08-11T22:04:37.599181Z",
     "iopub.status.busy": "2020-08-11T22:04:37.598314Z",
     "iopub.status.idle": "2020-08-11T22:04:37.931612Z",
     "shell.execute_reply": "2020-08-11T22:04:37.932292Z"
    },
    "papermill": {
     "duration": 0.915474,
     "end_time": "2020-08-11T22:04:37.932542",
     "exception": false,
     "start_time": "2020-08-11T22:04:37.017068",
     "status": "completed"
    },
    "tags": []
   },
   "outputs": [
    {
     "data": {
      "text/plain": [
       "array([1, 0, 0, ..., 0, 0, 0])"
      ]
     },
     "execution_count": 13,
     "metadata": {},
     "output_type": "execute_result"
    }
   ],
   "source": [
    "p = np.argmax(model.predict(X_test), axis=1)\n",
    "p"
   ]
  },
  {
   "cell_type": "code",
   "execution_count": 14,
   "metadata": {
    "execution": {
     "iopub.execute_input": "2020-08-11T22:04:39.088457Z",
     "iopub.status.busy": "2020-08-11T22:04:39.087586Z",
     "iopub.status.idle": "2020-08-11T22:04:39.373797Z",
     "shell.execute_reply": "2020-08-11T22:04:39.373104Z"
    },
    "papermill": {
     "duration": 0.868197,
     "end_time": "2020-08-11T22:04:39.373969",
     "exception": false,
     "start_time": "2020-08-11T22:04:38.505772",
     "status": "completed"
    },
    "tags": []
   },
   "outputs": [
    {
     "name": "stdout",
     "output_type": "stream",
     "text": [
      "              precision    recall  f1-score   support\n",
      "\n",
      "           0       0.86      0.88      0.87      1568\n",
      "           1       0.53      0.49      0.51       432\n",
      "\n",
      "    accuracy                           0.80      2000\n",
      "   macro avg       0.70      0.69      0.69      2000\n",
      "weighted avg       0.79      0.80      0.79      2000\n",
      "\n",
      "[[1384  184]\n",
      " [ 221  211]]\n"
     ]
    },
    {
     "name": "stderr",
     "output_type": "stream",
     "text": [
      "/opt/conda/lib/python3.7/site-packages/sklearn/utils/validation.py:71: FutureWarning: Pass labels=[0, 1] as keyword args. From version 0.25 passing these as positional arguments will result in an error\n",
      "  FutureWarning)\n"
     ]
    },
    {
     "data": {
      "image/png": "[encoded data removed]",
      "text/plain": [
       "<Figure size 432x288 with 2 Axes>"
      ]
     },
     "metadata": {
      "needs_background": "light"
     },
     "output_type": "display_data"
    }
   ],
   "source": [
    "from sklearn.metrics import confusion_matrix\n",
    "from sklearn.metrics import classification_report\n",
    "import matplotlib.pyplot as plt\n",
    "\n",
    "print(classification_report(y_test, p))\n",
    "\n",
    "# Confusion matrix for testing dataset\n",
    "labels = [0,1]\n",
    "cm = confusion_matrix(y_test, p, labels)\n",
    "print(cm)\n",
    "fig = plt.figure()\n",
    "ax = fig.add_subplot(111)\n",
    "cax = ax.matshow(cm)\n",
    "plt.title('Confusion matrix of the classifier')\n",
    "fig.colorbar(cax)\n",
    "ax.set_xticklabels([''] + labels)\n",
    "ax.set_yticklabels([''] + labels)\n",
    "plt.xlabel('Predicted')\n",
    "plt.ylabel('True')\n",
    "plt.show()\n"
   ]
  }
 ],
 "metadata": {
  "kernelspec": {
   "display_name": "Python 3",
   "language": "python",
   "name": "python3"
  },
  "language_info": {
   "codemirror_mode": {
    "name": "ipython",
    "version": 3
   },
   "file_extension": ".py",
   "mimetype": "text/x-python",
   "name": "python",
   "nbconvert_exporter": "python",
   "pygments_lexer": "ipython3",
   "version": "3.7.6"
  },
  "papermill": {
   "duration": 84.481715,
   "end_time": "2020-08-11T22:04:40.057519",
   "environment_variables": {},
   "exception": null,
   "input_path": "__notebook__.ipynb",
   "output_path": "__notebook__.ipynb",
   "parameters": {},
   "start_time": "2020-08-11T22:03:15.575804",
   "version": "2.1.0"
  }
 },
 "nbformat": 4,
 "nbformat_minor": 4
}
